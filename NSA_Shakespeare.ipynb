{
 "cells": [
  {
   "cell_type": "markdown",
   "id": "698f9b2e",
   "metadata": {},
   "source": [
    "# NSA: Natively trainable Sparse Attention\n",
    "This notebook demonstrates the NSA implementation on Shakespeare text generation using PyTorch.\n",
    "\n",
    "## Setup\n",
    "First, let's install the required dependencies and clone the repository:"
   ]
  },
  {
   "cell_type": "code",
   "execution_count": null,
   "id": "498224e9",
   "metadata": {},
   "outputs": [],
   "source": [
    "!pip install torch tqdm matplotlib\n",
    "!git clone https://github.com/andrewgcodes/nsa-by-devin.git\n",
    "%cd nsa-by-devin"
   ]
  },
  {
   "cell_type": "markdown",
   "id": "96854959",
   "metadata": {},
   "source": [
    "## Import Dependencies"
   ]
  },
  {
   "cell_type": "code",
   "execution_count": null,
   "id": "04f0b3d0",
   "metadata": {},
   "outputs": [],
   "source": [
    "import torch\n",
    "import torch.nn as nn\n",
    "from torch.optim import Adam\n",
    "from tqdm.notebook import tqdm\n",
    "import matplotlib.pyplot as plt\n",
    "\n",
    "from nsa.model import NSATransformer\n",
    "from data_utils import load_shakespeare"
   ]
  },
  {
   "cell_type": "markdown",
   "id": "fede156c",
   "metadata": {},
   "source": [
    "## Load and Process Data"
   ]
  },
  {
   "cell_type": "code",
   "execution_count": null,
   "id": "cf356171",
   "metadata": {},
   "outputs": [],
   "source": [
    "# Configuration\n",
    "config = {\n",
    "    'seq_len': 256,\n",
    "    'batch_size': 16,\n",
    "    'hidden_dim': 256,\n",
    "    'num_layers': 4,\n",
    "    'num_heads': 8,\n",
    "    'head_dim': 32,\n",
    "    'num_epochs': 10,\n",
    "    'learning_rate': 1e-4\n",
    "}\n",
    "\n",
    "device = torch.device('cuda' if torch.cuda.is_available() else 'cpu')\n",
    "print(f'Using device: {device}')\n",
    "\n",
    "# Load data\n",
    "train_loader, val_loader, vocab_size = load_shakespeare(\n",
    "    seq_len=config['seq_len'],\n",
    "    batch_size=config['batch_size']\n",
    ")\n",
    "print(f'Vocabulary size: {vocab_size}')"
   ]
  },
  {
   "cell_type": "markdown",
   "id": "7ee9ca80",
   "metadata": {},
   "source": [
    "## Create Model"
   ]
  },
  {
   "cell_type": "code",
   "execution_count": null,
   "id": "15bf6dba",
   "metadata": {},
   "outputs": [],
   "source": [
    "# Initialize model\n",
    "model = NSATransformer(\n",
    "    vocab_size=vocab_size,\n",
    "    num_layers=config['num_layers'],\n",
    "    hidden_dim=config['hidden_dim'],\n",
    "    num_heads=config['num_heads'],\n",
    "    head_dim=config['head_dim']\n",
    ").to(device)\n",
    "\n",
    "print(f'Model parameters: {sum(p.numel() for p in model.parameters()):,}')"
   ]
  },
  {
   "cell_type": "markdown",
   "id": "6dafce2e",
   "metadata": {},
   "source": [
    "## Training Loop"
   ]
  },
  {
   "cell_type": "code",
   "execution_count": null,
   "id": "fbdb266e",
   "metadata": {},
   "outputs": [],
   "source": [
    "# Training setup\n",
    "optimizer = Adam(model.parameters(), lr=config['learning_rate'])\n",
    "criterion = nn.CrossEntropyLoss()\n",
    "\n",
    "train_losses = []\n",
    "val_losses = []\n",
    "best_val_loss = float('inf')\n",
    "\n",
    "for epoch in range(config['num_epochs']):\n",
    "    # Training\n",
    "    model.train()\n",
    "    total_train_loss = 0\n",
    "    train_batches = 0\n",
    "    \n",
    "    for x, y in tqdm(train_loader, desc=f'Epoch {epoch + 1}'):\n",
    "        x, y = x.to(device), y.to(device)\n",
    "        \n",
    "        # Forward pass\n",
    "        logits = model(x)\n",
    "        loss = criterion(\n",
    "            logits.view(-1, logits.size(-1)),\n",
    "            y.view(-1)\n",
    "        )\n",
    "        \n",
    "        # Backward pass\n",
    "        optimizer.zero_grad()\n",
    "        loss.backward()\n",
    "        optimizer.step()\n",
    "        \n",
    "        total_train_loss += loss.item()\n",
    "        train_batches += 1\n",
    "    \n",
    "    avg_train_loss = total_train_loss / train_batches\n",
    "    train_losses.append(avg_train_loss)\n",
    "    \n",
    "    # Validation\n",
    "    model.eval()\n",
    "    total_val_loss = 0\n",
    "    val_batches = 0\n",
    "    \n",
    "    with torch.no_grad():\n",
    "        for x, y in val_loader:\n",
    "            x, y = x.to(device), y.to(device)\n",
    "            logits = model(x)\n",
    "            loss = criterion(\n",
    "                logits.view(-1, logits.size(-1)),\n",
    "                y.view(-1)\n",
    "            )\n",
    "            total_val_loss += loss.item()\n",
    "            val_batches += 1\n",
    "    \n",
    "    avg_val_loss = total_val_loss / val_batches\n",
    "    val_losses.append(avg_val_loss)\n",
    "    \n",
    "    print(f'Epoch {epoch + 1}/{config['num_epochs']}')\n",
    "    print(f'Train Loss: {avg_train_loss:.4f}')\n",
    "    print(f'Val Loss: {avg_val_loss:.4f}')"
   ]
  },
  {
   "cell_type": "markdown",
   "id": "cab3c360",
   "metadata": {},
   "source": [
    "## Visualize Results"
   ]
  },
  {
   "cell_type": "code",
   "execution_count": null,
   "id": "4107bd22",
   "metadata": {},
   "outputs": [],
   "source": [
    "plt.figure(figsize=(10, 6))\n",
    "plt.plot(train_losses, label='Train Loss')\n",
    "plt.plot(val_losses, label='Val Loss')\n",
    "plt.xlabel('Epoch')\n",
    "plt.ylabel('Loss')\n",
    "plt.title('Training Progress')\n",
    "plt.legend()\n",
    "plt.grid(True)\n",
    "plt.show()"
   ]
  }
 ],
 "metadata": {},
 "nbformat": 4,
 "nbformat_minor": 5
}
