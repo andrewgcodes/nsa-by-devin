{
 "cells": [
  {
   "cell_type": "markdown",
   "id": "abeba91c",
   "metadata": {},
   "source": [
    "# NSA: Natively trainable Sparse Attention\n",
    "This notebook demonstrates the NSA implementation on Shakespeare text generation using PyTorch.\n",
    "\n",
    "## Setup\n",
    "First, let's install the required dependencies and clone the repository:"
   ]
  },
  {
   "cell_type": "code",
   "execution_count": null,
   "id": "31e9c5dd",
   "metadata": {},
   "outputs": [],
   "source": [
    "!pip install torch tqdm matplotlib\n",
    "!git clone https://github.com/andrewgcodes/nsa-by-devin.git\n",
    "%cd nsa-by-devin"
   ]
  },
  {
   "cell_type": "markdown",
   "id": "53646c8a",
   "metadata": {},
   "source": [
    "## Import Dependencies"
   ]
  },
  {
   "cell_type": "code",
   "execution_count": null,
   "id": "49f60517",
   "metadata": {},
   "outputs": [],
   "source": [
    "import torch\n",
    "import torch.nn as nn\n",
    "from torch.optim import Adam\n",
    "from tqdm.notebook import tqdm\n",
    "import matplotlib.pyplot as plt\n",
    "\n",
    "from nsa.model import NSATransformer\n",
    "from data_utils import load_shakespeare"
   ]
  },
  {
   "cell_type": "markdown",
   "id": "2a61aa85",
   "metadata": {},
   "source": [
    "## Configuration"
   ]
  },
  {
   "cell_type": "code",
   "execution_count": null,
   "id": "d40348bc",
   "metadata": {},
   "outputs": [],
   "source": [
    "config = {\n",
    "    'seq_len': 256,\n",
    "    'batch_size': 16,\n",
    "    'hidden_dim': 256,\n",
    "    'num_layers': 4,\n",
    "    'num_heads': 8,\n",
    "    'head_dim': 32,\n",
    "    'num_epochs': 10,\n",
    "    'learning_rate': 1e-4\n",
    "}\n",
    "\n",
    "device = torch.device('cuda' if torch.cuda.is_available() else 'cpu')\n",
    "print(f'Using device: {device}')"
   ]
  },
  {
   "cell_type": "markdown",
   "id": "68561c7e",
   "metadata": {},
   "source": [
    "## Load and Process Data"
   ]
  },
  {
   "cell_type": "code",
   "execution_count": null,
   "id": "c9d30105",
   "metadata": {},
   "outputs": [],
   "source": [
    "train_loader, val_loader, vocab_size = load_shakespeare(\n",
    "    seq_len=config['seq_len'],\n",
    "    batch_size=config['batch_size']\n",
    ")\n",
    "print(f'Vocabulary size: {vocab_size}')"
   ]
  },
  {
   "cell_type": "markdown",
   "id": "7ef1b84f",
   "metadata": {},
   "source": [
    "## Training Loop"
   ]
  },
  {
   "cell_type": "code",
   "execution_count": null,
   "id": "c0122173",
   "metadata": {},
   "outputs": [],
   "source": [
    "# Training setup\n",
    "optimizer = Adam(model.parameters(), lr=config['learning_rate'])\n",
    "criterion = nn.CrossEntropyLoss()\n",
    "\n",
    "train_losses = []\n",
    "val_losses = []\n",
    "best_val_loss = float('inf')\n",
    "\n",
    "for epoch in range(config['num_epochs']):\n",
    "    model.train()\n",
    "    total_train_loss = 0\n",
    "    train_batches = 0\n",
    "    \n",
    "    for x, y in train_loader:\n",
    "        x, y = x.to(device), y.to(device)\n",
    "        \n",
    "        logits = model(x)\n",
    "        loss = criterion(\n",
    "            logits.view(-1, logits.size(-1)),\n",
    "            y.view(-1)\n",
    "        )\n",
    "        \n",
    "        optimizer.zero_grad()\n",
    "        loss.backward()\n",
    "        optimizer.step()\n",
    "        \n",
    "        total_train_loss += loss.item()\n",
    "        train_batches += 1\n",
    "    \n",
    "    avg_train_loss = total_train_loss / train_batches\n",
    "    train_losses.append(avg_train_loss)\n",
    "    print(f\"Epoch {epoch + 1}, Train Loss: {avg_train_loss:.4f}\")"
   ]
  }
 ],
 "metadata": {},
 "nbformat": 4,
 "nbformat_minor": 5
}
